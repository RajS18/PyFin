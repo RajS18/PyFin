{
 "cells": [
  {
   "cell_type": "code",
   "execution_count": null,
   "id": "6ee4a97d",
   "metadata": {},
   "outputs": [],
   "source": [
    "import pandas as pd\n",
    "import ta\n",
    "\n",
    "# Load the stock data into a pandas DataFrame\n",
    "df = pd.read_csv('stock_data.csv')\n",
    "\n",
    "# Calculate the ATR using the ta library\n",
    "df['atr'] = ta.volatility.AverageTrueRange(high=df['High'], low=df['Low'], close=df['Close'], window=14).average_true_range()\n",
    "\n",
    "# Print the last 10 rows of the DataFrame to check the results\n",
    "print(df.tail(10))\n"
   ]
  }
 ],
 "metadata": {
  "kernelspec": {
   "display_name": "Python 3 (ipykernel)",
   "language": "python",
   "name": "python3"
  },
  "language_info": {
   "codemirror_mode": {
    "name": "ipython",
    "version": 3
   },
   "file_extension": ".py",
   "mimetype": "text/x-python",
   "name": "python",
   "nbconvert_exporter": "python",
   "pygments_lexer": "ipython3",
   "version": "3.9.13"
  }
 },
 "nbformat": 4,
 "nbformat_minor": 5
}
