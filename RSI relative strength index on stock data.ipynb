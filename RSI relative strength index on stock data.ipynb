{
 "cells": [
  {
   "cell_type": "code",
   "execution_count": null,
   "id": "8056fff5",
   "metadata": {},
   "outputs": [],
   "source": [
    "import pandas as pd\n",
    "import numpy as np\n",
    "df = pd.read_csv('stock_prices.csv', index_col='Date', parse_dates=True)\n",
    "# Define the lookback period\n",
    "lookback = 14\n",
    "\n",
    "# Calculate the price change\n",
    "delta = df['Close'].diff()\n",
    "\n",
    "# Get the positive and negative gains\n",
    "gain = delta.where(delta > 0, 0)\n",
    "loss = -delta.where(delta < 0, 0)\n",
    "\n",
    "# Calculate the average gain and loss over the lookback period\n",
    "avg_gain = gain.rolling(window=lookback).mean()\n",
    "avg_loss = loss.rolling(window=lookback).mean()\n",
    "\n",
    "# Calculate the relative strength\n",
    "rs = avg_gain / avg_loss\n",
    "\n",
    "# Calculate the RSI\n",
    "rsi = 100 - (100 / (1 + rs))\n",
    "df['RSI'] = rsi\n",
    "import matplotlib.pyplot as plt\n",
    "\n",
    "plt.plot(df.index, df['RSI'])\n",
    "plt.show()\n"
   ]
  }
 ],
 "metadata": {
  "kernelspec": {
   "display_name": "Python 3 (ipykernel)",
   "language": "python",
   "name": "python3"
  },
  "language_info": {
   "codemirror_mode": {
    "name": "ipython",
    "version": 3
   },
   "file_extension": ".py",
   "mimetype": "text/x-python",
   "name": "python",
   "nbconvert_exporter": "python",
   "pygments_lexer": "ipython3",
   "version": "3.9.13"
  }
 },
 "nbformat": 4,
 "nbformat_minor": 5
}
