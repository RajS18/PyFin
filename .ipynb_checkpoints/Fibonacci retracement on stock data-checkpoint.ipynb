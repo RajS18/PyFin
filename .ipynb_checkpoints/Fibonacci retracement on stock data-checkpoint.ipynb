{
 "cells": [
  {
   "cell_type": "code",
   "execution_count": null,
   "id": "902a7e57",
   "metadata": {},
   "outputs": [],
   "source": [
    "import pandas as pd\n",
    "import numpy as np\n",
    "import matplotlib.pyplot as plt\n",
    "\n",
    "# Load stock data into a pandas dataframe\n",
    "df = pd.read_csv('stock_data.csv')\n",
    "\n",
    "# Define the high and low points for the retracement\n",
    "high_point = df['High'].max()\n",
    "low_point = df['Low'].min()\n",
    "\n",
    "# Calculate the Fibonacci levels\n",
    "levels = [0, 0.236, 0.382, 0.5, 0.618, 0.786, 1]\n",
    "fib_levels = []\n",
    "for level in levels:\n",
    "    fib_level = low_point + level * (high_point - low_point)\n",
    "    fib_levels.append(fib_level)\n",
    "\n",
    "# Plot the stock data and Fibonacci levels\n",
    "fig, ax = plt.subplots()\n",
    "ax.plot(df['Date'], df['Close'], label='Stock Price')\n",
    "for fib_level in fib_levels:\n",
    "    ax.axhline(y=fib_level, linestyle='--', color='gray', alpha=0.5, label='Fibonacci Level')\n",
    "ax.legend()\n",
    "\n",
    "# Add a title and axis labels\n",
    "plt.title('Fibonacci Retracement')\n",
    "plt.xlabel('Date')\n",
    "plt.ylabel('Price')\n",
    "\n",
    "# Show the plot\n",
    "plt.show()\n"
   ]
  },
  {
   "cell_type": "markdown",
   "id": "50a6cd8d",
   "metadata": {},
   "source": [
    "### In this code, we first load the stock data into a pandas dataframe using the read_csv function. We then calculate the highest and lowest points in the data, which we will use to determine the Fibonacci levels.\n",
    "\n",
    "### Next, we define the Fibonacci levels we want to calculate and use a loop to calculate the actual price levels based on the high and low points. We store these levels in a list called fib_levels.\n",
    "\n",
    "### Finally, we plot the stock data using ax.plot, and add horizontal lines for each Fibonacci level using ax.axhline. We also add a legend, title, and axis labels to the plot using the legend, title, xlabel, and ylabel functions.\n",
    "\n",
    "### The resulting plot will help us visualize the Fibonacci levels in relation to the stock price and identify any potential support or resistance levels."
   ]
  },
  {
   "cell_type": "code",
   "execution_count": null,
   "id": "d4b6ff9d",
   "metadata": {},
   "outputs": [],
   "source": []
  }
 ],
 "metadata": {
  "kernelspec": {
   "display_name": "Python 3 (ipykernel)",
   "language": "python",
   "name": "python3"
  },
  "language_info": {
   "codemirror_mode": {
    "name": "ipython",
    "version": 3
   },
   "file_extension": ".py",
   "mimetype": "text/x-python",
   "name": "python",
   "nbconvert_exporter": "python",
   "pygments_lexer": "ipython3",
   "version": "3.9.13"
  }
 },
 "nbformat": 4,
 "nbformat_minor": 5
}
