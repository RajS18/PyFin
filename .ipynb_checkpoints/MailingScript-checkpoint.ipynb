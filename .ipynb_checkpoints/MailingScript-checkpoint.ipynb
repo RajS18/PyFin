{
 "cells": [
  {
   "cell_type": "code",
   "execution_count": 2,
   "id": "b25291ca",
   "metadata": {},
   "outputs": [
    {
     "name": "stdout",
     "output_type": "stream",
     "text": [
      "Hoorah\n",
      "ACI\n",
      "r918sh@gmail.com\n",
      "Error sending email to r918sh@gmail.com: (534, b'5.7.9 Application-specific password required. Learn more at\\n5.7.9  https://support.google.com/mail/?p=InvalidSecondFactor y187-20020a0dd6c4000000b0054fdb1dad0fsm6145250ywd.43 - gsmtp')\n",
      "Done\n"
     ]
    }
   ],
   "source": [
    "import pandas as pd\n",
    "import smtplib\n",
    "from email.mime.text import MIMEText\n",
    "from email.mime.multipart import MIMEMultipart\n",
    "from email.mime.application import MIMEApplication\n",
    "\n",
    "# Load Excel file containing email addresses\n",
    "xls = pd.ExcelFile('F:/videos/COLLEGE/USL.xlsx')\n",
    "df = pd.read_excel(xls,'Test',header=None)\n",
    "\n",
    "# Set up email parameters\n",
    "smtp_server = 'smtp.gmail.com'\n",
    "smtp_port = 587\n",
    "sender_email = 'rajdragatron918@gmail.com'\n",
    "sender_password = ''\n",
    "subject = 'Test Email'\n",
    "body = 'This is a test email.'\n",
    "print(\"Hoorah\")\n",
    "# Loop through each row of the Excel file and send email to each recipient\n",
    "for index, row in df.iterrows():\n",
    "    recipient_company = row[0]\n",
    "    recipient_email = row[1]\n",
    "    print(recipient_company)\n",
    "    print(recipient_email)\n",
    "    # Create message object\n",
    "    message = MIMEMultipart()\n",
    "    message['From'] = sender_email\n",
    "    message['To'] = recipient_email\n",
    "    message['Subject'] = subject\n",
    "\n",
    "    # Add body text to message\n",
    "    message.attach(MIMEText(body, 'plain'))\n",
    "\n",
    "    # Add attachment to message\n",
    "    with open('Attachment.pdf', 'rb') as f:\n",
    "        attachment = MIMEApplication(f.read(), _subtype='pdf')\n",
    "        attachment.add_header('content-disposition', 'attachment', filename='attachment.pdf')\n",
    "        message.attach(attachment)\n",
    "\n",
    "    # Connect to SMTP server and send email\n",
    "    try:\n",
    "        server = smtplib.SMTP(smtp_server, smtp_port)\n",
    "        server.starttls()\n",
    "        server.login(sender_email, sender_password)\n",
    "        text = message.as_string()\n",
    "        server.sendmail(sender_email, recipient_email, text)\n",
    "        print(f'Successfully sent email to {recipient_email}')\n",
    "    except Exception as e:\n",
    "        print(f'Error sending email to {recipient_email}: {e}')\n",
    "    finally:\n",
    "        server.quit()\n",
    "print(\"Done\")"
   ]
  },
  {
   "cell_type": "code",
   "execution_count": null,
   "id": "d1eaeeb7",
   "metadata": {},
   "outputs": [],
   "source": []
  }
 ],
 "metadata": {
  "kernelspec": {
   "display_name": "Python 3 (ipykernel)",
   "language": "python",
   "name": "python3"
  },
  "language_info": {
   "codemirror_mode": {
    "name": "ipython",
    "version": 3
   },
   "file_extension": ".py",
   "mimetype": "text/x-python",
   "name": "python",
   "nbconvert_exporter": "python",
   "pygments_lexer": "ipython3",
   "version": "3.9.13"
  }
 },
 "nbformat": 4,
 "nbformat_minor": 5
}
