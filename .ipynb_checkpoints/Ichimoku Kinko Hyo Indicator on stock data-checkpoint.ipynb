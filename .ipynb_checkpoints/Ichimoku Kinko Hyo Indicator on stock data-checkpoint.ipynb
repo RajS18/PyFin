{
 "cells": [
  {
   "cell_type": "markdown",
   "id": "ba2a2496",
   "metadata": {},
   "source": [
    "### Ichimoku Kinko Hyo is a technical analysis indicator used to analyze financial markets. It is a trend-following indicator that helps traders identify potential trend reversals and support and resistance levels. The indicator is commonly used in the Japanese market and is often referred to as Ichimoku Cloud or simply Ichimoku.\n",
    "\n",
    "### The Ichimoku Kinko Hyo indicator consists of five lines that provide different types of information about the market:\n",
    "\n",
    "#### Tenkan-Sen (Conversion Line): This line is calculated as the average of the highest high and the lowest low over the past nine periods.\n",
    "\n",
    "#### Kijun-Sen (Base Line): This line is calculated as the average of the highest high and the lowest low over the past 26 periods.\n",
    "\n",
    "#### Senkou Span A (Leading Span A): This line is the midpoint between the Tenkan-Sen and Kijun-Sen lines, projected forward by 26 periods.\n",
    "\n",
    "#### Senkou Span B (Leading Span B): This line is the average of the highest high and the lowest low over the past 52 periods, projected forward by 26 periods.\n",
    "\n",
    "#### Chikou Span (Lagging Span): This line is the closing price of the current period, projected backward by 26 periods.\n",
    "\n",
    "### The interpretation of the Ichimoku Kinko Hyo indicator is based on the interaction between these lines. When the price is above the cloud formed by Senkou Span A and Senkou Span B, the trend is considered to be bullish. When the price is below the cloud, the trend is considered to be bearish. When the Tenkan-Sen crosses above the Kijun-Sen, it is considered to be a bullish signal, and when it crosses below the Kijun-Sen, it is considered to be a bearish signal."
   ]
  },
  {
   "cell_type": "code",
   "execution_count": null,
   "id": "c1c4d2e7",
   "metadata": {},
   "outputs": [],
   "source": [
    "import pandas as pd\n",
    "import matplotlib.pyplot as plt\n",
    "\n",
    "def ichimoku_kinko_hyo(dataframe):\n",
    "    # Calculate the required parameters\n",
    "    nine_period_high = dataframe['High'].rolling(window=9).max()\n",
    "    nine_period_low = dataframe['Low'].rolling(window=9).min()\n",
    "    tenkan_sen = (nine_period_high + nine_period_low) / 2\n",
    "\n",
    "    period26_high = dataframe['High'].rolling(window=26).max()\n",
    "    period26_low = dataframe['Low'].rolling(window=26).min()\n",
    "    kijun_sen = (period26_high + period26_low) / 2\n",
    "\n",
    "    senkou_span_a = ((tenkan_sen + kijun_sen) / 2).shift(26)\n",
    "\n",
    "    period52_high = dataframe['High'].rolling(window=52).max()\n",
    "    period52_low = dataframe['Low'].rolling(window=52).min()\n",
    "    senkou_span_b = ((period52_high + period52_low) / 2).shift(26)\n",
    "\n",
    "    chikou_span = dataframe['Close'].shift(-26)\n",
    "\n",
    "    # Create a new dataframe to store the Ichimoku Kinko Hyo values\n",
    "    ichimoku_dataframe = pd.DataFrame({'Tenkan-Sen': tenkan_sen,\n",
    "                                       'Kijun-Sen': kijun_sen,\n",
    "                                       'Senkou Span A': senkou_span_a,\n",
    "                                       'Senkou Span B': senkou_span_b,\n",
    "                                       'Chikou Span': chikou_span})\n",
    "\n",
    "    # Plot the Ichimoku Kinko Hyo indicator\n",
    "    plt.figure(figsize=(12,8))\n",
    "    plt.plot(dataframe['Close'], color='black', linewidth=1.5)\n",
    "    plt.plot(ichimoku_dataframe['Tenkan-Sen'], color='red', linewidth=1.5)\n",
    "    plt.plot(ichimoku_dataframe['Kijun-Sen'], color='blue', linewidth=1.5)\n",
    "    plt.plot(ichimoku_dataframe['Senkou Span A'], color='green', linewidth=1.5)\n",
    "    plt.plot(ichimoku_dataframe['Senkou Span B'], color='orange', linewidth=1.5)\n",
    "    plt.plot(ichimoku_dataframe['Chikou Span'], color='purple', linewidth=1.5)\n",
    "    plt.fill_between(ichimoku_dataframe.index, ichimoku_dataframe['Senkou Span A'], ichimoku_dataframe['Senkou Span B'], where=ichimoku_dataframe['Senkou Span A'] >= ichimoku_dataframe['Senkou Span B'], facecolor='lightgreen', interpolate=True)\n",
    "    plt.fill_between(ichimoku_dataframe.index, ichimoku_dataframe['Senkou Span A'], ichimoku_dataframe['Senkou Span B'], where=ichimoku_dataframe['Senkou Span A'] < ichimoku_dataframe['Senkou Span B'], facecolor='lightcoral', interpolate=True)\n",
    "    plt.legend(['Close', 'Tenkan-Sen', 'Kijun-Sen', 'Senkou Span A', 'Senkou Span B', 'Chikou Span'], loc='upper left')\n",
    "    plt.title('Ichimoku Kinko Hyo')\n",
    "    plt.show()\n",
    "\n",
    "# Example usage\n",
    "dataframe = pd.read_csv('stock_data.csv', parse_dates=['Date'])\n",
    "ichimoku_kinko_hyo(dataframe)\n"
   ]
  }
 ],
 "metadata": {
  "kernelspec": {
   "display_name": "Python 3 (ipykernel)",
   "language": "python",
   "name": "python3"
  },
  "language_info": {
   "codemirror_mode": {
    "name": "ipython",
    "version": 3
   },
   "file_extension": ".py",
   "mimetype": "text/x-python",
   "name": "python",
   "nbconvert_exporter": "python",
   "pygments_lexer": "ipython3",
   "version": "3.9.13"
  }
 },
 "nbformat": 4,
 "nbformat_minor": 5
}
