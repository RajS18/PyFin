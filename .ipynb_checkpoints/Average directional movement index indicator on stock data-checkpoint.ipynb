{
 "cells": [
  {
   "cell_type": "code",
   "execution_count": null,
   "id": "24feae98",
   "metadata": {},
   "outputs": [],
   "source": [
    "import pandas as pd\n",
    "import ta\n",
    "import matplotlib.pyplot as plt\n",
    "\n",
    "# Load the stock data into a pandas DataFrame\n",
    "df = pd.read_csv('stock_data.csv')\n",
    "\n",
    "# Calculate the ADX using the ta library\n",
    "adx_indicator = ta.trend.ADXIndicator(high=df['High'], low=df['Low'], close=df['Close'], window=14)\n",
    "df['adx'] = adx_indicator.adx()\n",
    "\n",
    "# Plot the stock price and ADX on a single chart\n",
    "fig, ax = plt.subplots(figsize=(12, 6))\n",
    "ax.plot(df['Date'], df['Close'], label='Price')\n",
    "ax.plot(df['Date'], df['adx'], label='ADX')\n",
    "ax.set(title='Stock Price with ADX', xlabel='Date', ylabel='Price')\n",
    "ax.legend()\n",
    "plt.show()\n"
   ]
  }
 ],
 "metadata": {
  "kernelspec": {
   "display_name": "Python 3 (ipykernel)",
   "language": "python",
   "name": "python3"
  },
  "language_info": {
   "codemirror_mode": {
    "name": "ipython",
    "version": 3
   },
   "file_extension": ".py",
   "mimetype": "text/x-python",
   "name": "python",
   "nbconvert_exporter": "python",
   "pygments_lexer": "ipython3",
   "version": "3.9.13"
  }
 },
 "nbformat": 4,
 "nbformat_minor": 5
}
