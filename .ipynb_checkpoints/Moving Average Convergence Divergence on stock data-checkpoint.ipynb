{
 "cells": [
  {
   "cell_type": "code",
   "execution_count": null,
   "id": "62a21b7a",
   "metadata": {},
   "outputs": [],
   "source": [
    "import pandas as pd\n",
    "import matplotlib.pyplot as plt\n",
    "\n",
    "# Load stock data from CSV file\n",
    "df = pd.read_csv('stock_data.csv', parse_dates=['Date'], index_col='Date')\n",
    "\n",
    "# Define parameters for MACD calculation\n",
    "short_period = 12\n",
    "long_period = 26\n",
    "signal_period = 9\n",
    "\n",
    "# Calculate exponential moving averages for short and long periods\n",
    "ema_short = df['Close'].ewm(span=short_period, adjust=False).mean()\n",
    "ema_long = df['Close'].ewm(span=long_period, adjust=False).mean()\n",
    "\n",
    "# Calculate MACD and signal line using exponential moving averages\n",
    "macd = ema_short - ema_long\n",
    "signal_line = macd.ewm(span=signal_period, adjust=False).mean()\n",
    "\n",
    "# Plot MACD and signal line\n",
    "plt.figure(figsize=(12, 6))\n",
    "plt.plot(df.index, macd, label='MACD')\n",
    "plt.plot(df.index, signal_line, label='Signal Line')\n",
    "plt.legend()\n",
    "plt.show()\n"
   ]
  }
 ],
 "metadata": {
  "kernelspec": {
   "display_name": "Python 3 (ipykernel)",
   "language": "python",
   "name": "python3"
  },
  "language_info": {
   "codemirror_mode": {
    "name": "ipython",
    "version": 3
   },
   "file_extension": ".py",
   "mimetype": "text/x-python",
   "name": "python",
   "nbconvert_exporter": "python",
   "pygments_lexer": "ipython3",
   "version": "3.9.13"
  }
 },
 "nbformat": 4,
 "nbformat_minor": 5
}
